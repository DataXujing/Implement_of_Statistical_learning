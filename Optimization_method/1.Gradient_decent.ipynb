{
 "cells": [
  {
   "cell_type": "markdown",
   "metadata": {},
   "source": [
    "### 这里我们使用梯度下降法来拟合房屋价格曲线"
   ]
  },
  {
   "cell_type": "code",
   "execution_count": 1,
   "metadata": {},
   "outputs": [],
   "source": [
    "%matplotlib inline\n",
    "import numpy as np\n",
    "import matplotlib.pyplot as plt\n"
   ]
  },
  {
   "cell_type": "code",
   "execution_count": 2,
   "metadata": {
    "scrolled": true
   },
   "outputs": [
    {
     "data": {
      "image/png": "[encoded data removed]",
      "text/plain": [
       "<matplotlib.figure.Figure at 0x10fc4a7f0>"
      ]
     },
     "metadata": {},
     "output_type": "display_data"
    }
   ],
   "source": [
    "spaces = [45, 73, 89, 120, 140, 163]\n",
    "prices = [80, 150, 198, 230, 280, 360]\n",
    "spaces, prices = np.array(spaces), np.array(prices)\n",
    "plt.scatter(spaces, prices, c='g')\n",
    "plt.xlabel('house space')\n",
    "plt.ylabel('house price')\n",
    "plt.show()\n",
    "\n",
    "## 显示房屋面积和房屋价格的散点图"
   ]
  },
  {
   "cell_type": "code",
   "execution_count": null,
   "metadata": {},
   "outputs": [],
   "source": []
  },
  {
   "cell_type": "markdown",
   "metadata": {},
   "source": [
    "使用梯度下降法我们需要假设$ h(x)$\n",
    "这里我们假设 $$ h(x) = \\theta_0 + \\theta_1 * x \\tag{1}$$ (只含有一个特征)\n",
    "另损失函数为 $$ J(\\theta) = \\frac{1}{2*6}\\sum_{i=0}^{6}\\{(h_\\theta(X_i)-y_i)^{2} \\tag{2} $$\n",
    "假设步长为 $\\lambda$,则每一次的更新公式为：$$\\theta_j = \\theta_j - \\lambda * \\frac{1}{6}\\sum_{i=1}^6(h_\\lambda(X_i) - y_i)*X_{ij} \\tag{3} $$\n",
    "下面来用代码实现"
   ]
  },
  {
   "cell_type": "code",
   "execution_count": 3,
   "metadata": {},
   "outputs": [
    {
     "name": "stdout",
     "output_type": "stream",
     "text": [
      " h(x) = 0.016206 + 2.078464 * x\n"
     ]
    },
    {
     "data": {
      "image/png": "[encoded data removed]",
      "text/plain": [
       "<matplotlib.figure.Figure at 0x10fcdc668>"
      ]
     },
     "metadata": {},
     "output_type": "display_data"
    }
   ],
   "source": [
    "## theta 初始值\n",
    "theta0 = 0\n",
    "theta1 = 0\n",
    "\n",
    "## 如果步长选择不对，则 theta 参数更新结果会不对\n",
    "step = 0.00005\n",
    "\n",
    "x_i0 = np.ones((len(spaces)))\n",
    "\n",
    "# 假设函数\n",
    "def h(x) :\n",
    "      return theta0 + theta1 * x\n",
    "\n",
    "# 损失函数\n",
    "def calc_error() :\n",
    "      return np.sum(np.power((h(spaces) - prices),2)) / 6\n",
    "\n",
    "# 损失函数偏导数( theta 0)\n",
    "def calc_delta0() :\n",
    "      return step * np.sum((h(spaces) - prices) * x_i0) / 6\n",
    "\n",
    "# 损失函数偏导数( theta 1)\n",
    "def calc_delta1() :\n",
    "      return step * np.sum((h(spaces) - prices) * spaces) / 6\n",
    "\n",
    "# 循环更新 theta 值并计算误差，停止条件为\n",
    "#  1. 误差小于某个值\n",
    "#  2. 循环次数控制\n",
    "k = 0\n",
    "while True :\n",
    "    delta0 = calc_delta0()\n",
    "    delta1 = calc_delta1()\n",
    "    theta0 = theta0 - delta0\n",
    "    theta1 = theta1 - delta1\n",
    "    error = calc_error()\n",
    "    # print(\"delta [%f, %f], theta [%f, %f], error %f\" % (delta0, delta1, theta0, theta1, error))\n",
    "    k = k + 1\n",
    "    if (k > 10 or error < 200) : \n",
    "        break\n",
    "\n",
    "\n",
    "print(\" h(x) = %f + %f * x\" % (theta0, theta1))\n",
    "    \n",
    "# 使用假设函数计算出来的价格，用于画拟合曲线\n",
    "y_out = h(spaces)\n",
    "\n",
    "plt.scatter(spaces, prices, c='g')\n",
    "plt.plot(spaces, y_out, c='b')\n",
    "plt.xlabel('house space')\n",
    "plt.ylabel('house price')\n",
    "plt.show()"
   ]
  },
  {
   "cell_type": "code",
   "execution_count": null,
   "metadata": {},
   "outputs": [],
   "source": []
  }
 ],
 "metadata": {
  "kernelspec": {
   "display_name": "Python 3",
   "language": "python",
   "name": "python3"
  },
  "language_info": {
   "codemirror_mode": {
    "name": "ipython",
    "version": 3
   },
   "file_extension": ".py",
   "mimetype": "text/x-python",
   "name": "python",
   "nbconvert_exporter": "python",
   "pygments_lexer": "ipython3",
   "version": "3.6.5"
  }
 },
 "nbformat": 4,
 "nbformat_minor": 2
}
